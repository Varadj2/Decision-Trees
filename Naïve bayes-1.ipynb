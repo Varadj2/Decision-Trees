{
 "cells": [
  {
   "cell_type": "raw",
   "id": "ad611e64-c217-43d2-9f40-0cb4abada515",
   "metadata": {},
   "source": [
    "Q1. What is Bayes' theorem?"
   ]
  },
  {
   "cell_type": "markdown",
   "id": "0335fd50-c0c9-4393-8fba-86b9936f4e9c",
   "metadata": {},
   "source": [
    "Bayes' theorem, named after the Reverend Thomas Bayes, is a fundamental concept in probability theory and statistics. It describes the probability of an event based on prior knowledge or beliefs about related events. Bayes' theorem is expressed mathematically as:\n",
    "\n",
    "\\[ P(A|B) = \\frac{P(B|A) \\times P(A)}{P(B)} \\]\n",
    "\n",
    "Where:\n",
    "- \\( P(A|B) \\) is the conditional probability of event \\( A \\) occurring given that event \\( B \\) has occurred.\n",
    "- \\( P(B|A) \\) is the conditional probability of event \\( B \\) occurring given that event \\( A \\) has occurred.\n",
    "- \\( P(A) \\) and \\( P(B) \\) are the probabilities of events \\( A \\) and \\( B \\) occurring independently of each other.\n",
    "\n",
    "Bayes' theorem allows us to update our beliefs or prior knowledge about the likelihood of an event \\( A \\) occurring, given new evidence or information \\( B \\). Here's a breakdown of the components:\n",
    "\n",
    "- \\( P(A) \\) is the prior probability, representing our initial belief about the likelihood of event \\( A \\) occurring.\n",
    "- \\( P(B|A) \\) is the likelihood function, representing the probability of observing evidence \\( B \\) given that event \\( A \\) has occurred.\n",
    "- \\( P(B) \\) is the marginal likelihood or evidence, representing the total probability of observing evidence \\( B \\).\n",
    "- \\( P(A|B) \\) is the posterior probability, representing the updated belief about the likelihood of event \\( A \\) occurring after observing evidence \\( B \\).\n",
    "\n",
    "Bayes' theorem is widely used in various fields, including statistics, machine learning, and artificial intelligence, for tasks such as classification, regression, and hypothesis testing. It provides a principled way to incorporate new evidence into existing knowledge and make more informed decisions."
   ]
  },
  {
   "cell_type": "code",
   "execution_count": null,
   "id": "922f75fe-5ea7-4612-8173-03854bbeeb14",
   "metadata": {},
   "outputs": [],
   "source": []
  },
  {
   "cell_type": "raw",
   "id": "9af3e5fe-3399-4c1a-b4a6-d974b10d471f",
   "metadata": {},
   "source": [
    "Q2. What is the formula for Bayes' theorem?"
   ]
  },
  {
   "cell_type": "code",
   "execution_count": null,
   "id": "23dd32be-11f8-4aff-a88c-55ff709e7e18",
   "metadata": {},
   "outputs": [],
   "source": [
    "Bayes' theorem is a fundamental concept in probability theory, expressing the probability of an event based on prior knowledge or beliefs about related events. Mathematically, Bayes' theorem is expressed as:\n",
    "\n",
    "\\[ P(A|B) = \\frac{P(B|A) \\times P(A)}{P(B)} \\]\n",
    "\n",
    "Where:\n",
    "- \\( P(A|B) \\) is the conditional probability of event \\( A \\) occurring given that event \\( B \\) has occurred.\n",
    "- \\( P(B|A) \\) is the conditional probability of event \\( B \\) occurring given that event \\( A \\) has occurred.\n",
    "- \\( P(A) \\) is the probability of event \\( A \\) occurring independently of event \\( B \\).\n",
    "- \\( P(B) \\) is the probability of event \\( B \\) occurring independently of event \\( A \\).\n",
    "\n",
    "This formula allows us to update our beliefs or prior knowledge about the likelihood of an event \\( A \\) occurring, given new evidence or information \\( B \\). It's a powerful tool for reasoning under uncertainty and is widely used in various fields such as statistics, machine learning, and artificial intelligence."
   ]
  },
  {
   "cell_type": "code",
   "execution_count": null,
   "id": "66e54149-d8fc-4de2-9dd3-7210460ec04a",
   "metadata": {},
   "outputs": [],
   "source": []
  },
  {
   "cell_type": "raw",
   "id": "cb7a5975-951a-4155-92b7-dc202f361c04",
   "metadata": {},
   "source": [
    "Q3. How is Bayes' theorem used in practice?"
   ]
  },
  {
   "cell_type": "code",
   "execution_count": null,
   "id": "0bb9e383-e6c5-44a0-8aff-5a0eecfbf8f3",
   "metadata": {},
   "outputs": [],
   "source": []
  },
  {
   "cell_type": "code",
   "execution_count": null,
   "id": "f973ea81-70d6-452c-adae-43c1496c7288",
   "metadata": {},
   "outputs": [],
   "source": []
  },
  {
   "cell_type": "raw",
   "id": "493e5c16-2192-4fcb-bc7a-f2d517be85f2",
   "metadata": {},
   "source": [
    "Q4. What is the relationship between Bayes' theorem and conditional probability?"
   ]
  },
  {
   "cell_type": "code",
   "execution_count": null,
   "id": "f9e38ec3-2c67-42fb-aeff-8af9288e3467",
   "metadata": {},
   "outputs": [],
   "source": []
  },
  {
   "cell_type": "code",
   "execution_count": null,
   "id": "8b1a4891-1742-4ab5-b420-2151d770d9b2",
   "metadata": {},
   "outputs": [],
   "source": []
  },
  {
   "cell_type": "raw",
   "id": "68699ea8-27c4-4964-8ec7-75531b6f2019",
   "metadata": {},
   "source": [
    "Q5. How do you choose which type of Naive Bayes classifier to use for any given problem?"
   ]
  },
  {
   "cell_type": "code",
   "execution_count": null,
   "id": "d7f01952-18e1-4804-96fe-02ea3bd41450",
   "metadata": {},
   "outputs": [],
   "source": []
  },
  {
   "cell_type": "code",
   "execution_count": null,
   "id": "603cebc3-8150-4ce2-ad20-e168e7a51b9e",
   "metadata": {},
   "outputs": [],
   "source": []
  },
  {
   "cell_type": "raw",
   "id": "b8153be3-deff-4be8-83d5-73fbe9529fba",
   "metadata": {},
   "source": [
    "Q6. Assignment:\n",
    "You have a dataset with two features, X1 and X2, and two possible classes, A and B. You want to use Naive \n",
    "Bayes to classify a new instance with features X1 = 3 and X2 = 4. The following table shows the frequency of \n",
    "each feature value for each class:\n",
    "\n",
    "Class\t X1=1 X1=2 \tX1=3 \tX2=1 \tX2=2 \tX2=3\t X2=4\n",
    "\n",
    " A\t 3\t 3\t 4\t 4\t 3\t 3\t 3\n",
    "\n",
    " B\t 2\t 2\t 1\t 2\t 2\t 2\t 3\n",
    "\n",
    "Assuming equal prior probabilities for each class, which class would Naive Bayes predict the new instance \n",
    "to belong to?"
   ]
  },
  {
   "cell_type": "code",
   "execution_count": null,
   "id": "bf4d705f-3650-4cb7-be21-8b0519267b9c",
   "metadata": {},
   "outputs": [],
   "source": []
  }
 ],
 "metadata": {
  "kernelspec": {
   "display_name": "Python 3 (ipykernel)",
   "language": "python",
   "name": "python3"
  },
  "language_info": {
   "codemirror_mode": {
    "name": "ipython",
    "version": 3
   },
   "file_extension": ".py",
   "mimetype": "text/x-python",
   "name": "python",
   "nbconvert_exporter": "python",
   "pygments_lexer": "ipython3",
   "version": "3.10.8"
  }
 },
 "nbformat": 4,
 "nbformat_minor": 5
}
